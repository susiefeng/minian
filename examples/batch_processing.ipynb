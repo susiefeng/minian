{
 "cells": [
  {
   "cell_type": "code",
   "execution_count": null,
   "metadata": {},
   "outputs": [],
   "source": [
    "import os\n",
    "import re\n",
    "import time\n",
    "import sys\n",
    "import papermill as pm\n",
    "import numpy as np\n",
    "import pandas as pd\n",
    "import holoviews as hv\n",
    "from papermill import PapermillExecutionError"
   ]
  },
  {
   "cell_type": "code",
   "execution_count": null,
   "metadata": {},
   "outputs": [],
   "source": [
    "%load_ext autoreload\n",
    "%autoreload 2\n",
    "minian_path = \"../\"\n",
    "sys.path.append(minian_path)\n",
    "from minian.utilities import open_minian_mf, load_videos\n",
    "from minian.visualization import CNMFViewer, VArrayViewer\n",
    "hv.notebook_extension('bokeh')"
   ]
  },
  {
   "cell_type": "code",
   "execution_count": null,
   "metadata": {},
   "outputs": [],
   "source": [
    "notebook_path = '../pipeline.ipynb'\n",
    "dpath = '../demo_movies'"
   ]
  },
  {
   "cell_type": "code",
   "execution_count": null,
   "metadata": {
    "papermill": {
     "duration": 0.080202,
     "end_time": "2019-01-06T22:40:17.473036",
     "exception": false,
     "start_time": "2019-01-06T22:40:17.392834",
     "status": "completed"
    },
    "tags": [
     "parameters"
    ]
   },
   "outputs": [],
   "source": [
    "params = {\n",
    "    'minian_path' : \"/absolute/path/to/minian\",\n",
    "    'dpath' : \".\",\n",
    "    'chunks' : {\"frame\": 1000, \"height\": 50, \"width\": 50, \"unit_id\": 100},\n",
    "    'subset' : None,\n",
    "    'subset_mc': None,\n",
    "    'in_memory' : False,\n",
    "    'interactive' : False,\n",
    "    'output_size' : 100,\n",
    "    'param_load_videos' : {\n",
    "        'pattern': 'msCam[0-9]+\\.avi$',\n",
    "        'dtype': 'f4',\n",
    "        'in_memory': False,\n",
    "        'downsample': {'frame': 2},\n",
    "        'downsample_strategy': 'subset'},\n",
    "    'param_glow_removal' : {\n",
    "        'method': 'uniform',\n",
    "        'wnd': 51},\n",
    "    'param_brightspot_removal' : {\n",
    "        'thres': 2},\n",
    "    'param_first_denoise' : {\n",
    "        'method': 'gaussian',\n",
    "        'sigmaX': 0,\n",
    "        'ksize': (5, 5)},\n",
    "    'param_second_denoise' : {\n",
    "        'method': 'median',\n",
    "        'ksize': 5},\n",
    "    'param_estimate_shift' : {\n",
    "        'dim': 'frame',\n",
    "        'on': 'first',\n",
    "        'pad_f': 1,\n",
    "        'pct_thres': 99.99},\n",
    "    'param_background_removal' : {\n",
    "        'method': 'tophat',\n",
    "        'wnd': 10},\n",
    "    'param_seeds_init' : {\n",
    "        'wnd_size': 2000,\n",
    "        'method': 'rolling',\n",
    "        'stp_size': 1000,\n",
    "        'nchunk': 100,\n",
    "        'max_wnd': 10},\n",
    "    'param_gmm_refine' : {\n",
    "        'q': (0.1, 99.9),\n",
    "        'n_components': 2,\n",
    "        'valid_components': 1},\n",
    "    'param_pnr_refine' : {\n",
    "        'noise_freq': 0.06,\n",
    "        'thres': 1,\n",
    "        'q': (0.1, 99.9)},\n",
    "    'param_ks_refine' : {\n",
    "        'sig': 0.05},\n",
    "    'param_seeds_merge' : {\n",
    "        'thres_dist': 5,\n",
    "        'thres_corr': 0.8,\n",
    "        'noise_freq': 0.06},\n",
    "    'param_initialize' : {\n",
    "        'thres_corr': 0.8,\n",
    "        'wnd': 10},\n",
    "    'param_get_noise' : {\n",
    "        'noise_range': (0.06, 0.5),\n",
    "        'noise_method': 'logmexp'},\n",
    "    'param_first_spatial' : {\n",
    "        'dl_wnd': 5,\n",
    "        'sparse_penal': 0.1,\n",
    "        'update_background': False,\n",
    "        'post_scal': True,\n",
    "        'zero_thres': 'eps'},\n",
    "    'param_first_temporal' : {\n",
    "        'noise_freq': 0.06,\n",
    "        'sparse_penal': 1,\n",
    "        'p': 2,\n",
    "        'add_lag': 20,\n",
    "        'use_spatial': False,\n",
    "        'chk': {\"frame\": 1000, \"height\": 50, \"width\": 50, \"unit_id\": 100},\n",
    "        'jac_thres': 0.2,\n",
    "        'zero_thres': 1e-8,\n",
    "        'max_iters': 200,\n",
    "        'use_smooth': True,\n",
    "        'scs_fallback': False,\n",
    "        'post_scal': True},\n",
    "    'param_first_merge' : {\n",
    "        'thres_corr': 0.9},\n",
    "    'param_second_spatial' : {\n",
    "        'dl_wnd': 5,\n",
    "        'sparse_penal': 0.05,\n",
    "        'update_background': False,\n",
    "        'post_scal': True,\n",
    "        'zero_thres': 'eps'},\n",
    "    'param_second_temporal' : {\n",
    "        'noise_freq': 0.06,\n",
    "        'sparse_penal': 1,\n",
    "        'p': 2,\n",
    "        'add_lag': 20,\n",
    "        'use_spatial': False,\n",
    "        'chk': {\"frame\": 1000, \"height\": 50, \"width\": 50, \"unit_id\": 100},\n",
    "        'jac_thres': 0.1,\n",
    "        'zero_thres': 1e-8,\n",
    "        'max_iters': 500,\n",
    "        'use_smooth': True,\n",
    "        'scs_fallback': False,\n",
    "        'post_scal': True},\n",
    "    'param_second_merge' : {\n",
    "        'thres_corr': 0.9},\n",
    "    'param_save_minian' : {\n",
    "        'dpath': \".\",\n",
    "        'fname': 'minian',\n",
    "        'backend': 'zarr',\n",
    "        'meta_dict': {\"session_id\": -1, \"session\": -2, \"animal\": -3}}\n",
    "}\n",
    "params_override = dict()"
   ]
  },
  {
   "cell_type": "code",
   "execution_count": null,
   "metadata": {},
   "outputs": [],
   "source": [
    "vlist = []\n",
    "for cur_fd, dirs, files in os.walk(dpath):\n",
    "    try:\n",
    "        cur_vid = load_videos(cur_fd, **params['param_load_videos'])\n",
    "        vlist.append(cur_vid)\n",
    "    except FileNotFoundError:\n",
    "        pass"
   ]
  },
  {
   "cell_type": "code",
   "execution_count": null,
   "metadata": {},
   "outputs": [],
   "source": [
    "vaviewer = VArrayViewer(vlist, summary=['diff'], layout=False, histogram=False)"
   ]
  },
  {
   "cell_type": "code",
   "execution_count": null,
   "metadata": {},
   "outputs": [],
   "source": [
    "hv.output(size=60)\n",
    "vaviewer.show()"
   ]
  },
  {
   "cell_type": "code",
   "execution_count": null,
   "metadata": {},
   "outputs": [],
   "source": [
    "params_override.update({fn[0]: dict(subset_mc = str(box)) for fn, box in vaviewer.mask.items()})"
   ]
  },
  {
   "cell_type": "code",
   "execution_count": null,
   "metadata": {},
   "outputs": [],
   "source": [
    "summary_list = []\n",
    "err_dict = dict()\n",
    "for root, dirs, files in os.walk(dpath):\n",
    "    pattern = params['param_load_videos']['pattern']\n",
    "    vfiles = list(filter(lambda f: re.search(pattern, f), files))\n",
    "    if vfiles:\n",
    "        ts = int(time.time())\n",
    "        params['dpath'] = root\n",
    "        params['param_save_minian']['dpath'] = root\n",
    "        params['param_save_minian']['fname'] = \"minian.{}\".format(ts)\n",
    "        vname = os.path.split(root)[-1]\n",
    "        try:\n",
    "            params.update(params_override[vname])\n",
    "            print(\"using parameters override\")\n",
    "        except KeyError:\n",
    "            print(\"using default parameters\")\n",
    "        out_nb_path = os.path.join(root, 'minian_result.{}.ipynb'.format(ts))\n",
    "        try:\n",
    "            exe_result = pm.execute_notebook(\n",
    "                notebook_path,\n",
    "                out_nb_path,\n",
    "                parameters = params)\n",
    "        except PapermillExecutionError as e:\n",
    "            print(e)\n",
    "            err_dict[root] = e\n",
    "            continue\n",
    "        res_df = pm.read_notebook(out_nb_path).dataframe\n",
    "        df_list = []\n",
    "        for ir, row in res_df.iterrows():\n",
    "            if row['name'].startswith('param_'):\n",
    "                cur_rlist = [dict(\n",
    "                    function=row['name'][6:],\n",
    "                    name=k, value=v,\n",
    "                    type=row['type'],\n",
    "                    filename=row['filename']\n",
    "                ) for k, v in row['value'].items()]\n",
    "                df_list.append(pd.DataFrame(cur_rlist))\n",
    "            else:\n",
    "                df_list.append(row.to_frame().T)\n",
    "        res_df = pd.concat(df_list, ignore_index=True, sort=False)\n",
    "        res_df['path'] = root\n",
    "        summary_list.append(res_df)\n",
    "    else:\n",
    "        # print(\"no data found under {}\".format(root))\n",
    "        pass\n",
    "summary = pd.concat(summary_list, ignore_index=True, sort=False)"
   ]
  },
  {
   "cell_type": "code",
   "execution_count": null,
   "metadata": {},
   "outputs": [],
   "source": [
    "summary.to_pickle(os.path.join(dpath, \"summary.pkl\"))"
   ]
  },
  {
   "cell_type": "code",
   "execution_count": null,
   "metadata": {},
   "outputs": [],
   "source": [
    "%%time\n",
    "%%capture\n",
    "minian = open_minian_mf(\n",
    "    dpath, ['animal', 'session'], backend='zarr',\n",
    "    chunks=dict(height='auto', width='auto', frame='auto', unit_id='auto'))"
   ]
  },
  {
   "cell_type": "code",
   "execution_count": null,
   "metadata": {},
   "outputs": [],
   "source": [
    "vaviewer = VArrayViewer(\n",
    "    minian['org'], meta_dims=['animal', 'session'],\n",
    "    summary=minian['shifts'].rename(variable='sum_var'), layout=False)"
   ]
  },
  {
   "cell_type": "code",
   "execution_count": null,
   "metadata": {},
   "outputs": [],
   "source": [
    "hv.output(size=60)\n",
    "vaviewer.show()"
   ]
  },
  {
   "cell_type": "code",
   "execution_count": null,
   "metadata": {},
   "outputs": [],
   "source": [
    "cnmfviewer = CNMFViewer(minian)"
   ]
  },
  {
   "cell_type": "code",
   "execution_count": null,
   "metadata": {},
   "outputs": [],
   "source": [
    "hv.output(size=60)\n",
    "cnmfviewer.show()"
   ]
  }
 ],
 "metadata": {
  "kernelspec": {
   "display_name": "Python3 (minian)",
   "language": "python",
   "name": "minian"
  },
  "language_info": {
   "codemirror_mode": {
    "name": "ipython",
    "version": 3
   },
   "file_extension": ".py",
   "mimetype": "text/x-python",
   "name": "python",
   "nbconvert_exporter": "python",
   "pygments_lexer": "ipython3",
   "version": "3.6.7"
  }
 },
 "nbformat": 4,
 "nbformat_minor": 2
}
