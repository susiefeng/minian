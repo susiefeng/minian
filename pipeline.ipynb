{
 "cells": [
  {
   "cell_type": "markdown",
   "metadata": {},
   "source": [
    "# Setting up"
   ]
  },
  {
   "cell_type": "markdown",
   "metadata": {},
   "source": [
    "## load modules"
   ]
  },
  {
   "cell_type": "code",
   "execution_count": null,
   "metadata": {},
   "outputs": [],
   "source": [
    "%%capture\n",
    "%load_ext autoreload\n",
    "%autoreload 2\n",
    "import sys\n",
    "import os\n",
    "import gc\n",
    "import psutil\n",
    "import numpy as np\n",
    "import xarray as xr\n",
    "import holoviews as hv\n",
    "import matplotlib.pyplot as plt\n",
    "import bokeh.plotting as bpl\n",
    "import dask.array as da\n",
    "import pandas as pd\n",
    "import dask\n",
    "import datashader as ds\n",
    "import itertools as itt\n",
    "import papermill as pm\n",
    "import ast\n",
    "import functools as fct\n",
    "from holoviews.operation.datashader import datashade, regrid, dynspread\n",
    "from datashader.colors import Sets1to3\n",
    "from dask.diagnostics import ProgressBar\n",
    "from IPython.core.display import display, HTML\n",
    "from dask.distributed import Client, progress, LocalCluster, fire_and_forget"
   ]
  },
  {
   "cell_type": "markdown",
   "metadata": {},
   "source": [
    "## set path and parameters"
   ]
  },
  {
   "cell_type": "code",
   "execution_count": null,
   "metadata": {
    "tags": [
     "parameters"
    ]
   },
   "outputs": [],
   "source": [
    "minian_path = \".\"\n",
    "dpath = \"./demo_movies\"\n",
    "chunks = {\"frame\": 1000, \"height\": 50, \"width\": 50, \"unit_id\": 100}\n",
    "subset = None\n",
    "subset_mc = None\n",
    "in_memory = False\n",
    "interactive = True\n",
    "output_size = 60\n",
    "param_load_videos = {\n",
    "    'pattern': 'msCam[0-9]+\\.avi$',\n",
    "    'dtype': np.float32,\n",
    "    'in_memory': in_memory,\n",
    "    'downsample': dict(frame=2),\n",
    "    'downsample_strategy': 'subset'}\n",
    "param_glow_removal = {\n",
    "    'method': 'uniform',\n",
    "    'wnd': 51}\n",
    "param_brightspot_removal = {\n",
    "    'thres': 2}\n",
    "param_first_denoise = {\n",
    "    'method': 'median',\n",
    "    'ksize': 5}\n",
    "param_second_denoise = {\n",
    "    'method': 'gaussian',\n",
    "    'sigmaX': 0,\n",
    "    'ksize': (5, 5)}\n",
    "param_estimate_shift = {\n",
    "    'dim': 'frame',\n",
    "    'on': 'first',\n",
    "    'pad_f': 1,\n",
    "    'pct_thres': 99.99}\n",
    "param_background_removal = {\n",
    "    'method': 'tophat',\n",
    "    'wnd': 10}\n",
    "param_seeds_init = {\n",
    "    'wnd_size': 2000,\n",
    "    'method': 'rolling',\n",
    "    'stp_size': 1000,\n",
    "    'nchunk': 100,\n",
    "    'max_wnd': 10}\n",
    "param_gmm_refine = {\n",
    "    'q': (0.1, 99.9),\n",
    "    'n_components': 2,\n",
    "    'valid_components': 1}\n",
    "param_pnr_refine = {\n",
    "    'noise_freq': 0.06,\n",
    "    'thres': 'auto'}\n",
    "param_ks_refine = {\n",
    "    'sig': 0.05}\n",
    "param_seeds_merge = {\n",
    "    'thres_dist': 5,\n",
    "    'thres_corr': 0.7,\n",
    "    'noise_freq': 'envelope'}\n",
    "param_initialize = {\n",
    "    'thres_corr': 0.8,\n",
    "    'wnd': 10}\n",
    "param_get_noise = {\n",
    "    'noise_range': (0.06, 0.5),\n",
    "    'noise_method': 'logmexp'}\n",
    "param_first_spatial = {\n",
    "    'dl_wnd': 5,\n",
    "    'sparse_penal': 0.1,\n",
    "    'update_background': False,\n",
    "    'post_scal': True,\n",
    "    'zero_thres': 'eps'}\n",
    "param_first_temporal = {\n",
    "    'noise_freq': 0.06,\n",
    "    'sparse_penal': 1,\n",
    "    'p': 2,\n",
    "    'add_lag': 20,\n",
    "    'use_spatial': False,\n",
    "    'chk': chunks,\n",
    "    'jac_thres': 0.1,\n",
    "    'zero_thres': 1e-8,\n",
    "    'max_iters': 200,\n",
    "    'use_smooth': True,\n",
    "    'scs_fallback': False,\n",
    "    'post_scal': True}\n",
    "param_first_merge = {\n",
    "    'thres_corr': 0.9}\n",
    "param_second_spatial = {\n",
    "    'dl_wnd': 5,\n",
    "    'sparse_penal': 0.05,\n",
    "    'update_background': False,\n",
    "    'post_scal': True,\n",
    "    'zero_thres': 'eps'}\n",
    "param_second_temporal = {\n",
    "    'noise_freq': 0.06,\n",
    "    'sparse_penal': 1,\n",
    "    'p': 2,\n",
    "    'add_lag': 20,\n",
    "    'use_spatial': False,\n",
    "    'chk': chunks,\n",
    "    'jac_thres': 0.1,\n",
    "    'zero_thres': 1e-8,\n",
    "    'max_iters': 500,\n",
    "    'use_smooth': True,\n",
    "    'scs_fallback': False,\n",
    "    'post_scal': True}\n",
    "param_second_merge = {\n",
    "    'thres_corr': 0.9}\n",
    "param_save_minian = {\n",
    "    'dpath': dpath,\n",
    "    'fname': 'minian',\n",
    "    'backend': 'zarr',\n",
    "    'meta_dict': dict(session=-1, animal=-2),\n",
    "    'overwrite': True}"
   ]
  },
  {
   "cell_type": "markdown",
   "metadata": {},
   "source": [
    "## import minian"
   ]
  },
  {
   "cell_type": "code",
   "execution_count": null,
   "metadata": {
    "autoscroll": false,
    "ein.tags": "worksheet-0",
    "slideshow": {
     "slide_type": "-"
    }
   },
   "outputs": [],
   "source": [
    "%%capture\n",
    "sys.path.append(minian_path)\n",
    "from minian.utilities import load_params, load_videos, scale_varr, scale_varr_da, save_variable, open_minian, save_minian, handle_crash\n",
    "from minian.preprocessing import remove_brightspot, gradient_norm, denoise, remove_background, stripe_correction\n",
    "from minian.motion_correction import estimate_shift_fft, apply_shifts, interpolate_frame, mask_shifts\n",
    "from minian.initialization import seeds_init, gmm_refine, pnr_refine, intensity_refine, ks_refine, seeds_merge, initialize\n",
    "from minian.cnmf import psd_welch, psd_fft, get_noise, update_spatial, update_temporal, unit_merge, smooth_sig\n",
    "from minian.visualization import VArrayViewer, CNMFViewer, generate_videos, visualize_seeds, visualize_gmm_fit, visualize_spatial_update, visualize_temporal_update, roi_draw"
   ]
  },
  {
   "cell_type": "markdown",
   "metadata": {},
   "source": [
    "## module initialization"
   ]
  },
  {
   "cell_type": "code",
   "execution_count": null,
   "metadata": {
    "autoscroll": false,
    "ein.tags": "worksheet-0",
    "slideshow": {
     "slide_type": "-"
    }
   },
   "outputs": [],
   "source": [
    "dpath = os.path.abspath(dpath)\n",
    "para_norm_list = ['meta_dict', 'chunks', 'subset', 'subset_mc']\n",
    "for par_key in list(globals().keys()):\n",
    "    if par_key in para_norm_list or par_key.startswith('param_'):\n",
    "        globals()[par_key] = load_params(globals()[par_key])\n",
    "if interactive:\n",
    "    hv.notebook_extension('bokeh', width=100)\n",
    "    pbar = ProgressBar()\n",
    "    pbar.register()\n",
    "else:\n",
    "    hv.notebook_extension('matplotlib')"
   ]
  },
  {
   "cell_type": "markdown",
   "metadata": {},
   "source": [
    "# Pre-processing"
   ]
  },
  {
   "cell_type": "markdown",
   "metadata": {},
   "source": [
    "## loading videos and visualization"
   ]
  },
  {
   "cell_type": "code",
   "execution_count": null,
   "metadata": {
    "autoscroll": false,
    "ein.tags": "worksheet-0",
    "slideshow": {
     "slide_type": "-"
    }
   },
   "outputs": [],
   "source": [
    "%%time\n",
    "handle_crash = fct.partial(\n",
    "    handle_crash,\n",
    "    frame_dict={\n",
    "        '181216_exposure': 10 * 60 * 30,\n",
    "        '181218_training': 242 * 30,\n",
    "        '181220_test1': 5 * 60 * 30,\n",
    "        '181222_test2': 5 * 60 * 30,\n",
    "        '181224_test3': 5 * 60 * 30})\n",
    "varr = load_videos(dpath, post_process=handle_crash, **param_load_videos)"
   ]
  },
  {
   "cell_type": "code",
   "execution_count": null,
   "metadata": {},
   "outputs": [],
   "source": [
    "if in_memory:\n",
    "    varr = varr.persist()"
   ]
  },
  {
   "cell_type": "code",
   "execution_count": null,
   "metadata": {},
   "outputs": [],
   "source": [
    "hv.output(size=output_size)\n",
    "if interactive:\n",
    "    vaviewer = VArrayViewer(varr, framerate=5)\n",
    "    display(vaviewer.show())"
   ]
  },
  {
   "cell_type": "markdown",
   "metadata": {},
   "source": [
    "## set roi for motion correction"
   ]
  },
  {
   "cell_type": "code",
   "execution_count": null,
   "metadata": {},
   "outputs": [],
   "source": [
    "if interactive:\n",
    "    try:\n",
    "        subset_mc = list(vaviewer.mask.values())[0]\n",
    "    except IndexError:\n",
    "        pass"
   ]
  },
  {
   "cell_type": "markdown",
   "metadata": {},
   "source": [
    "## subset part of video"
   ]
  },
  {
   "cell_type": "code",
   "execution_count": null,
   "metadata": {},
   "outputs": [],
   "source": [
    "varr_ref = varr.sel(subset)\n",
    "if subset:\n",
    "    for sub_key in subset.keys():\n",
    "        varr_reg = varr_ref.dropna(sub_key)\n",
    "varr_ref = varr_ref.where(varr_ref.sum(['height', 'width']) > 0).dropna('frame')\n",
    "varr_ref = varr_ref.chunk(dict(frame=int(chunks['frame']/10), height=-1, width=-1))"
   ]
  },
  {
   "cell_type": "markdown",
   "metadata": {},
   "source": [
    "## stripe correction"
   ]
  },
  {
   "cell_type": "code",
   "execution_count": null,
   "metadata": {},
   "outputs": [],
   "source": [
    "%%time\n",
    "#varr_ref = stripe_correction(varr_ref, reduce_dim='width')\n",
    "#if in_memory:\n",
    "#    with ProgressBar():\n",
    "#        varr_ref = varr_ref.persist()"
   ]
  },
  {
   "cell_type": "markdown",
   "metadata": {},
   "source": [
    "## glow removal"
   ]
  },
  {
   "cell_type": "code",
   "execution_count": null,
   "metadata": {},
   "outputs": [],
   "source": [
    "varr_ref = remove_background(varr_ref, **param_glow_removal)\n",
    "if in_memory:\n",
    "    varr_ref = varr_ref.persist()"
   ]
  },
  {
   "cell_type": "markdown",
   "metadata": {},
   "source": [
    "## bright spots removal"
   ]
  },
  {
   "cell_type": "code",
   "execution_count": null,
   "metadata": {},
   "outputs": [],
   "source": [
    "%%time\n",
    "varr_ref = remove_brightspot(varr_ref, **param_brightspot_removal)\n",
    "if in_memory:\n",
    "    varr_ref = varr_ref.persist()"
   ]
  },
  {
   "cell_type": "markdown",
   "metadata": {},
   "source": [
    "## denoise"
   ]
  },
  {
   "cell_type": "code",
   "execution_count": null,
   "metadata": {},
   "outputs": [],
   "source": [
    "%%time\n",
    "varr_ref = denoise(varr_ref, **param_first_denoise)\n",
    "if in_memory:\n",
    "    varr_ref = varr_ref.persist()"
   ]
  },
  {
   "cell_type": "code",
   "execution_count": null,
   "metadata": {},
   "outputs": [],
   "source": [
    "%%time\n",
    "varr_ref = denoise(varr_ref, **param_second_denoise)\n",
    "if in_memory:\n",
    "    varr_ref = varr_ref.persist()"
   ]
  },
  {
   "cell_type": "markdown",
   "metadata": {},
   "source": [
    "# motion correction"
   ]
  },
  {
   "cell_type": "markdown",
   "metadata": {},
   "source": [
    "## estimate shifts"
   ]
  },
  {
   "cell_type": "code",
   "execution_count": null,
   "metadata": {},
   "outputs": [],
   "source": [
    "%%time\n",
    "res = estimate_shift_fft(varr_ref.sel(subset_mc), **param_estimate_shift)\n",
    "if in_memory:\n",
    "    res = res.compute()\n",
    "shifts = res.sel(variable = ['height', 'width'])\n",
    "corr = res.sel(variable='corr')"
   ]
  },
  {
   "cell_type": "markdown",
   "metadata": {},
   "source": [
    "## masking and interpolation"
   ]
  },
  {
   "cell_type": "code",
   "execution_count": null,
   "metadata": {},
   "outputs": [],
   "source": [
    "%%time\n",
    "# shifts, mask = mask_shifts(varr_ref, corr, shifts, z_thres=-1.5)"
   ]
  },
  {
   "cell_type": "code",
   "execution_count": null,
   "metadata": {},
   "outputs": [],
   "source": [
    "%%time\n",
    "# varr_ref = interpolate_frame(varr_ref.compute().rename('varr_mc'), mask)"
   ]
  },
  {
   "cell_type": "markdown",
   "metadata": {
    "toc-hr-collapsed": true
   },
   "source": [
    "## determine shifts"
   ]
  },
  {
   "cell_type": "markdown",
   "metadata": {},
   "source": [
    "### take cumulative sum if `on='perframe'` when estimating shifts"
   ]
  },
  {
   "cell_type": "code",
   "execution_count": null,
   "metadata": {
    "scrolled": false
   },
   "outputs": [],
   "source": [
    "# shifts = shifts.cumsum('frame')"
   ]
  },
  {
   "cell_type": "markdown",
   "metadata": {},
   "source": [
    "## visualization of shifts"
   ]
  },
  {
   "cell_type": "code",
   "execution_count": null,
   "metadata": {},
   "outputs": [],
   "source": [
    "%%opts Curve [width=500, tools=['hover']]\n",
    "hv.output(size=output_size)\n",
    "if interactive and in_memory:\n",
    "    hv.NdOverlay(dict(width=hv.Curve(shifts.sel(variable='width')),\n",
    "                      height=hv.Curve(shifts.sel(variable='height'))))"
   ]
  },
  {
   "cell_type": "markdown",
   "metadata": {},
   "source": [
    "## apply shifts"
   ]
  },
  {
   "cell_type": "code",
   "execution_count": null,
   "metadata": {
    "scrolled": false
   },
   "outputs": [],
   "source": [
    "varr_mc = apply_shifts(varr_ref, shifts)\n",
    "varr_mc = varr_mc.ffill('height').bfill('height').ffill('width').bfill('width')\n",
    "if in_memory:\n",
    "    varr_mc = varr_mc.persist()"
   ]
  },
  {
   "cell_type": "markdown",
   "metadata": {},
   "source": [
    "## visualization of motion-correction"
   ]
  },
  {
   "cell_type": "code",
   "execution_count": null,
   "metadata": {},
   "outputs": [],
   "source": [
    "hv.output(size=output_size)\n",
    "if interactive and in_memory:\n",
    "    vaviewer = VArrayViewer(varr_mc.rename('varr_mc'), framerate=5)\n",
    "    display(vaviewer.show())"
   ]
  },
  {
   "cell_type": "markdown",
   "metadata": {},
   "source": [
    "## save result"
   ]
  },
  {
   "cell_type": "code",
   "execution_count": null,
   "metadata": {},
   "outputs": [],
   "source": [
    "%%time\n",
    "save_minian(shifts.rename('shifts'), **param_save_minian)\n",
    "save_minian(varr_mc.rename('org'), **param_save_minian)"
   ]
  },
  {
   "cell_type": "markdown",
   "metadata": {},
   "source": [
    "# background removal"
   ]
  },
  {
   "cell_type": "markdown",
   "metadata": {},
   "source": [
    "## load in from disk"
   ]
  },
  {
   "cell_type": "code",
   "execution_count": null,
   "metadata": {},
   "outputs": [],
   "source": [
    "varr_mc = open_minian(dpath,\n",
    "                      fname=param_save_minian['fname'],\n",
    "                      backend=param_save_minian['backend'])['org']"
   ]
  },
  {
   "cell_type": "markdown",
   "metadata": {},
   "source": [
    "## background removal"
   ]
  },
  {
   "cell_type": "code",
   "execution_count": null,
   "metadata": {},
   "outputs": [],
   "source": [
    "%%time\n",
    "Y = remove_background(varr_mc, **param_background_removal)\n",
    "if in_memory:\n",
    "    with dask.config.set(scheduler='processes'):\n",
    "        Y = Y.persist()"
   ]
  },
  {
   "cell_type": "markdown",
   "metadata": {},
   "source": [
    "## normalization"
   ]
  },
  {
   "cell_type": "code",
   "execution_count": null,
   "metadata": {},
   "outputs": [],
   "source": [
    "%%time\n",
    "Y = scale_varr(Y)\n",
    "if in_memory:\n",
    "    Y = Y.persist()"
   ]
  },
  {
   "cell_type": "markdown",
   "metadata": {},
   "source": [
    "## visualization of background removal"
   ]
  },
  {
   "cell_type": "code",
   "execution_count": null,
   "metadata": {},
   "outputs": [],
   "source": [
    "hv.output(size=output_size)\n",
    "if interactive and in_memory:\n",
    "    vaviewer = VArrayViewer(Y.rename('Y'), framerate=5)\n",
    "    display(vaviewer.show())"
   ]
  },
  {
   "cell_type": "markdown",
   "metadata": {},
   "source": [
    "## save result"
   ]
  },
  {
   "cell_type": "code",
   "execution_count": null,
   "metadata": {},
   "outputs": [],
   "source": [
    "%%time\n",
    "with dask.config.set(scheduler='processes'):\n",
    "    save_minian(Y.rename('Y'), **param_save_minian)"
   ]
  },
  {
   "cell_type": "markdown",
   "metadata": {},
   "source": [
    "# initialization"
   ]
  },
  {
   "cell_type": "code",
   "execution_count": null,
   "metadata": {},
   "outputs": [],
   "source": [
    "%%time\n",
    "minian = open_minian(dpath,\n",
    "                     fname=param_save_minian['fname'],\n",
    "                     backend=param_save_minian['backend'])"
   ]
  },
  {
   "cell_type": "code",
   "execution_count": null,
   "metadata": {},
   "outputs": [],
   "source": [
    "Y = minian['Y']\n",
    "max_proj = Y.max('frame').compute()\n",
    "Y_flt = Y.stack(spatial=['height', 'width'])"
   ]
  },
  {
   "cell_type": "markdown",
   "metadata": {},
   "source": [
    "## generating over-complete set of seeds"
   ]
  },
  {
   "cell_type": "code",
   "execution_count": null,
   "metadata": {
    "scrolled": false
   },
   "outputs": [],
   "source": [
    "%%time\n",
    "seeds = seeds_init(Y, **param_seeds_init)"
   ]
  },
  {
   "cell_type": "code",
   "execution_count": null,
   "metadata": {},
   "outputs": [],
   "source": [
    "visualize_seeds(max_proj, seeds)"
   ]
  },
  {
   "cell_type": "markdown",
   "metadata": {},
   "source": [
    "## gaussian-mixture-model refine"
   ]
  },
  {
   "cell_type": "code",
   "execution_count": null,
   "metadata": {
    "scrolled": false
   },
   "outputs": [],
   "source": [
    "%%time\n",
    "seeds_gmm, pv, gmm= gmm_refine(Y_flt, seeds, **param_gmm_refine)"
   ]
  },
  {
   "cell_type": "code",
   "execution_count": null,
   "metadata": {},
   "outputs": [],
   "source": [
    "visualize_gmm_fit(pv, gmm, 100)"
   ]
  },
  {
   "cell_type": "code",
   "execution_count": null,
   "metadata": {},
   "outputs": [],
   "source": [
    "visualize_seeds(max_proj, seeds_gmm, 'mask_gmm')"
   ]
  },
  {
   "cell_type": "markdown",
   "metadata": {},
   "source": [
    "## peak-noise-ratio refine"
   ]
  },
  {
   "cell_type": "code",
   "execution_count": null,
   "metadata": {
    "scrolled": false
   },
   "outputs": [],
   "source": [
    "%%time\n",
    "if interactive:\n",
    "    noise_freq_list = [0.005, 0.01, 0.02, 0.06, 0.1, 0.2, 0.3, 0.45]\n",
    "    example_seeds = seeds_gmm[seeds_gmm['mask_gmm']].sample(6, axis='rows')\n",
    "    example_trace = (Y_flt\n",
    "                     .sel(spatial=[tuple(hw) for hw in example_seeds[['height', 'width']].values])\n",
    "                     .assign_coords(spatial=np.arange(6)))\n",
    "    smooth_dict = dict()\n",
    "    for freq in noise_freq_list:\n",
    "        trace_smth_low = smooth_sig(example_trace, freq)\n",
    "        trace_smth_high = smooth_sig(example_trace, freq, btype='high')\n",
    "        trace_smth_low = trace_smth_low.compute()\n",
    "        trace_smth_high = trace_smth_high.compute()\n",
    "        hv_trace = hv.HoloMap({\n",
    "            'signal': hv.Dataset(trace_smth_low).to(hv.Curve, kdims=['frame']),\n",
    "            'noise': hv.Dataset(trace_smth_high).to(hv.Curve, kdims=['frame'])\n",
    "        }, kdims='trace').collate()\n",
    "        smooth_dict[freq] = hv_trace"
   ]
  },
  {
   "cell_type": "code",
   "execution_count": null,
   "metadata": {},
   "outputs": [],
   "source": [
    "hv.output(size=output_size)\n",
    "if interactive:\n",
    "    hv_res = (hv.HoloMap(smooth_dict, kdims=['noise_freq']).collate().opts(plot=dict(height=400, width=600))\n",
    "              .overlay('trace').layout('spatial').cols(3))\n",
    "    display(hv_res)"
   ]
  },
  {
   "cell_type": "code",
   "execution_count": null,
   "metadata": {},
   "outputs": [],
   "source": [
    "seeds_pnr, pnr, gmm = pnr_refine(Y_flt, seeds_gmm[seeds_gmm['mask_gmm']].copy(), **param_pnr_refine)"
   ]
  },
  {
   "cell_type": "code",
   "execution_count": null,
   "metadata": {},
   "outputs": [],
   "source": [
    "if gmm:\n",
    "    display(visualize_gmm_fit(pnr, gmm, 100))"
   ]
  },
  {
   "cell_type": "code",
   "execution_count": null,
   "metadata": {},
   "outputs": [],
   "source": [
    "visualize_seeds(max_proj, seeds_pnr, 'mask_pnr')"
   ]
  },
  {
   "cell_type": "markdown",
   "metadata": {},
   "source": [
    "## intensity refine"
   ]
  },
  {
   "cell_type": "code",
   "execution_count": null,
   "metadata": {},
   "outputs": [],
   "source": [
    "%%time\n",
    "seeds_int = intensity_refine(max_proj, seeds_pnr[seeds_pnr['mask_pnr']], thres_mul=2)"
   ]
  },
  {
   "cell_type": "code",
   "execution_count": null,
   "metadata": {},
   "outputs": [],
   "source": [
    "visualize_seeds(max_proj, seeds_int, 'mask_int')"
   ]
  },
  {
   "cell_type": "markdown",
   "metadata": {},
   "source": [
    "## ks refine"
   ]
  },
  {
   "cell_type": "code",
   "execution_count": null,
   "metadata": {},
   "outputs": [],
   "source": [
    "%%time\n",
    "seeds_ks = ks_refine(Y_flt, seeds_int[seeds_int['mask_int']], **param_ks_refine)"
   ]
  },
  {
   "cell_type": "code",
   "execution_count": null,
   "metadata": {},
   "outputs": [],
   "source": [
    "visualize_seeds(max_proj, seeds_ks, 'mask_ks')"
   ]
  },
  {
   "cell_type": "markdown",
   "metadata": {},
   "source": [
    "## merge seeds"
   ]
  },
  {
   "cell_type": "code",
   "execution_count": null,
   "metadata": {
    "scrolled": false
   },
   "outputs": [],
   "source": [
    "%%time\n",
    "seeds_final = seeds_gmm[seeds_gmm['mask_gmm']].reset_index(drop=True)\n",
    "seeds_mrg = seeds_merge(Y_flt, seeds_final, **param_seeds_merge)"
   ]
  },
  {
   "cell_type": "code",
   "execution_count": null,
   "metadata": {},
   "outputs": [],
   "source": [
    "visualize_seeds(max_proj, seeds_mrg, 'mask_mrg')"
   ]
  },
  {
   "cell_type": "markdown",
   "metadata": {},
   "source": [
    "## initialize spatial and temporal matrices from seeds"
   ]
  },
  {
   "cell_type": "code",
   "execution_count": null,
   "metadata": {
    "scrolled": false
   },
   "outputs": [],
   "source": [
    "%%time\n",
    "Y = Y.chunk(dict(frame=-1, height='auto', width='auto'))\n",
    "A, C, b, f = initialize(Y, seeds_mrg[seeds_mrg['mask_mrg']], **param_initialize)"
   ]
  },
  {
   "cell_type": "code",
   "execution_count": null,
   "metadata": {},
   "outputs": [],
   "source": [
    "im_opts = dict(plot=dict(height=A.sizes['height'], width=A.sizes['width']), style=dict(cmap='Viridis'))\n",
    "cr_opts = dict(plot=dict(height=A.sizes['height'], width=A.sizes['height'] * 2), style=dict(cmap='Viridis'))\n",
    "(regrid(hv.Image(A.sum('unit_id'), kdims=['width', 'height'])).opts(**im_opts)\n",
    " + regrid(hv.Image(C, kdims=['frame', 'unit_id'])).opts(**cr_opts)\n",
    "  + regrid(hv.Image(b, kdims=['width', 'height'])).opts(**im_opts)\n",
    " + datashade(hv.Curve(f, kdims=['frame'])).opts(**cr_opts)\n",
    ").cols(2)"
   ]
  },
  {
   "cell_type": "markdown",
   "metadata": {},
   "source": [
    "## save results"
   ]
  },
  {
   "cell_type": "code",
   "execution_count": null,
   "metadata": {},
   "outputs": [],
   "source": [
    "%%time\n",
    "minian.close()\n",
    "save_minian(A.rename('A_init').rename(unit_id='unit_id_init'), **param_save_minian)\n",
    "save_minian(C.rename('C_init').rename(unit_id='unit_id_init'), **param_save_minian)\n",
    "save_minian(b.rename('b_init'), **param_save_minian)\n",
    "save_minian(f.rename('f_init'), **param_save_minian)"
   ]
  },
  {
   "cell_type": "markdown",
   "metadata": {},
   "source": [
    "# CNMF"
   ]
  },
  {
   "cell_type": "markdown",
   "metadata": {
    "toc-hr-collapsed": false
   },
   "source": [
    "## loading data"
   ]
  },
  {
   "cell_type": "code",
   "execution_count": null,
   "metadata": {},
   "outputs": [],
   "source": [
    "%%time\n",
    "chk = chunks.copy()\n",
    "chk['unit_id_init'] = chk.pop('unit_id')\n",
    "minian = open_minian(dpath,\n",
    "                     fname=param_save_minian['fname'],\n",
    "                     backend=param_save_minian['backend'],\n",
    "                     chunks=chk)\n",
    "Y = minian['Y']\n",
    "A_init = minian['A_init'].rename(unit_id_init='unit_id')\n",
    "C_init = minian['C_init'].rename(unit_id_init='unit_id')\n",
    "b_init = minian['b_init']\n",
    "f_init = minian['f_init']"
   ]
  },
  {
   "cell_type": "markdown",
   "metadata": {},
   "source": [
    "## estimate spatial noise"
   ]
  },
  {
   "cell_type": "code",
   "execution_count": null,
   "metadata": {
    "scrolled": false
   },
   "outputs": [],
   "source": [
    "%%time\n",
    "psd = psd_fft(Y)\n",
    "if interactive and in_memory:\n",
    "    psd = psd.persist()"
   ]
  },
  {
   "cell_type": "code",
   "execution_count": null,
   "metadata": {},
   "outputs": [],
   "source": [
    "%%opts Image [height=300, width=800, colorbar=True, logz=True] (cmap='Viridis')\n",
    "if interactive:\n",
    "    psd_flt = psd.stack(spatial=['height', 'width'])\n",
    "    hv_psd = hv.Image(\n",
    "        psd_flt.assign_coords(spatial=range(psd_flt.sizes['spatial'])).rename('psd'),\n",
    "        kdims=['spatial', 'freq'])\n",
    "    display(regrid(hv_psd).redim.range(psd=(0, 5e-3)))"
   ]
  },
  {
   "cell_type": "code",
   "execution_count": null,
   "metadata": {},
   "outputs": [],
   "source": [
    "%%time\n",
    "sn_spatial = get_noise(psd, **param_get_noise).persist()"
   ]
  },
  {
   "cell_type": "markdown",
   "metadata": {},
   "source": [
    "## test parameters for spatial update"
   ]
  },
  {
   "cell_type": "code",
   "execution_count": null,
   "metadata": {},
   "outputs": [],
   "source": [
    "if interactive:\n",
    "    units = np.random.choice(A_init.coords['unit_id'], 10)\n",
    "    units.sort()"
   ]
  },
  {
   "cell_type": "code",
   "execution_count": null,
   "metadata": {},
   "outputs": [],
   "source": [
    "%%time\n",
    "if interactive:\n",
    "    sprs_ls = [0.1, 0.5, 1]\n",
    "    A_dict = dict()\n",
    "    C_dict = dict()\n",
    "    for cur_sprs in sprs_ls:\n",
    "        cur_A, cur_b, cur_C, cur_f = update_spatial(\n",
    "            Y, A_init.sel(unit_id=units),\n",
    "            b_init, C_init.sel(unit_id=units), f_init, sn_spatial, dl_wnd=20, sparse_penal=cur_sprs)\n",
    "        if cur_A.sizes['unit_id']:\n",
    "            A_dict[cur_sprs] = cur_A.compute()\n",
    "            C_dict[cur_sprs] = cur_C.compute()\n",
    "    hv_res = visualize_spatial_update(A_dict, C_dict, kdims=['sparse penalty'])"
   ]
  },
  {
   "cell_type": "code",
   "execution_count": null,
   "metadata": {},
   "outputs": [],
   "source": [
    "hv.output(size=output_size)\n",
    "if interactive:\n",
    "    display(hv_res)"
   ]
  },
  {
   "cell_type": "markdown",
   "metadata": {},
   "source": [
    "## first spatial update"
   ]
  },
  {
   "cell_type": "code",
   "execution_count": null,
   "metadata": {},
   "outputs": [],
   "source": [
    "%%time\n",
    "A_spatial, b_spatial, C_spatial, f_spatial = update_spatial(\n",
    "    Y, A_init, b_init, C_init, f_init, sn_spatial, **param_first_spatial)\n",
    "A_spatial = A_spatial.chunk(dict(unit_id = chunks['unit_id']))"
   ]
  },
  {
   "cell_type": "code",
   "execution_count": null,
   "metadata": {
    "scrolled": false
   },
   "outputs": [],
   "source": [
    "hv.output(size=output_size)\n",
    "opts = dict(plot=dict(height=A_init.sizes['height'], width=A_init.sizes['width'], colorbar=True), style=dict(cmap='Viridis'))\n",
    "(regrid(hv.Image(A_init.sum('unit_id').compute().rename('A'), kdims=['width', 'height'])).opts(**opts).relabel(\"Spatial Footprints Initial\")\n",
    "+ regrid(hv.Image((A_init.fillna(0) > 0).sum('unit_id').compute().rename('A'), kdims=['width', 'height']), aggregator='max').opts(**opts).relabel(\"Binary Spatial Footprints Initial\")\n",
    "+ regrid(hv.Image(A_spatial.sum('unit_id').compute().rename('A'), kdims=['width', 'height'])).opts(**opts).relabel(\"Spatial Footprints First Update\")\n",
    "+ regrid(hv.Image((A_spatial > 0).sum('unit_id').compute().rename('A'), kdims=['width', 'height']), aggregator='max').opts(**opts).relabel(\"Binary Spatial Footprints First Update\")).cols(2)"
   ]
  },
  {
   "cell_type": "code",
   "execution_count": null,
   "metadata": {},
   "outputs": [],
   "source": [
    "hv.output(size=output_size)\n",
    "opts_im = dict(plot=dict(height=b_init.sizes['height'], width=b_init.sizes['width'], colorbar=True), style=dict(cmap='Viridis'))\n",
    "opts_cr = dict(plot=dict(height=b_init.sizes['height'], width=b_init.sizes['height'] * 2))\n",
    "(regrid(hv.Image(b_init, kdims=['width', 'height'])).opts(**opts_im).relabel('Background Spatial Initial')\n",
    " + datashade(hv.Curve(f_init, kdims=['frame'])).opts(**opts_cr).relabel('Background Temporal Initial')\n",
    " + regrid(hv.Image(b_spatial, kdims=['width', 'height'])).opts(**opts_im).relabel('Background Spatial First Update')\n",
    " + datashade(hv.Curve(f_spatial, kdims=['frame'])).opts(**opts_cr).relabel('Background Temporal First Update')\n",
    ").cols(2)"
   ]
  },
  {
   "cell_type": "markdown",
   "metadata": {},
   "source": [
    "## test parameters for temporal update"
   ]
  },
  {
   "cell_type": "code",
   "execution_count": null,
   "metadata": {},
   "outputs": [],
   "source": [
    "if interactive:\n",
    "    units = np.random.choice(A_spatial.coords['unit_id'], 10, replace=False)\n",
    "    units.sort()"
   ]
  },
  {
   "cell_type": "code",
   "execution_count": null,
   "metadata": {},
   "outputs": [],
   "source": [
    "%%time\n",
    "if interactive:\n",
    "    p_ls = [2]\n",
    "    sprs_ls = [1, 3, 5]\n",
    "    add_ls = [20]\n",
    "    noise_ls = [0.06]\n",
    "    YA_dict, C_dict, S_dict, g_dict, sig_dict, A_dict = [dict() for _ in range(6)]\n",
    "    for cur_p, cur_sprs, cur_add, cur_noise in itt.product(p_ls, sprs_ls, add_ls, noise_ls):\n",
    "        ks = (cur_p, cur_sprs, cur_add, cur_noise)\n",
    "        print(\"p:{}, sparse penalty:{}, additional lag:{}, noise frequency:{}\"\n",
    "              .format(cur_p, cur_sprs, cur_add, cur_noise))\n",
    "        YrA, cur_C, cur_S, cur_B, cur_C0, cur_sig, cur_g, cur_scal = update_temporal(\n",
    "            Y, A_spatial.sel(unit_id=units), b_spatial, C_spatial.sel(unit_id=units),\n",
    "            f_spatial, sn_spatial, sparse_penal=cur_sprs, p=cur_p, use_spatial=False, use_smooth=True,\n",
    "            add_lag = cur_add, noise_freq=cur_noise, cvx_sched=\"processes\", chk=chunks)\n",
    "        cur_A = A_spatial.sel(unit_id = cur_C.coords['unit_id'])\n",
    "        YA_dict[ks], C_dict[ks], S_dict[ks], g_dict[ks], sig_dict[ks], A_dict[ks] = (\n",
    "            YrA, cur_C, cur_S, cur_g, cur_sig, cur_A)\n",
    "    hv_res = visualize_temporal_update(\n",
    "        YA_dict, C_dict, S_dict, g_dict, sig_dict, A_dict,\n",
    "        kdims=['p', 'sparse penalty', 'additional lag', 'noise frequency'])"
   ]
  },
  {
   "cell_type": "code",
   "execution_count": null,
   "metadata": {},
   "outputs": [],
   "source": [
    "hv.output(size=output_size)\n",
    "if interactive:\n",
    "    display(hv_res)"
   ]
  },
  {
   "cell_type": "markdown",
   "metadata": {},
   "source": [
    "## first temporal update"
   ]
  },
  {
   "cell_type": "code",
   "execution_count": null,
   "metadata": {
    "scrolled": false
   },
   "outputs": [],
   "source": [
    "%%time\n",
    "YrA, C_temporal, S_temporal, B_temporal, C0_temporal, sig_temporal, g_temporal, scale = update_temporal(\n",
    "    Y, A_spatial,\n",
    "    b_spatial, C_spatial, f_spatial, sn_spatial, **param_first_temporal)\n",
    "A_temporal = (A_spatial.sel(unit_id = C_temporal.coords['unit_id'])\n",
    "              .chunk(chunks['unit_id']))"
   ]
  },
  {
   "cell_type": "code",
   "execution_count": null,
   "metadata": {},
   "outputs": [],
   "source": [
    "hv.output(size=output_size)\n",
    "opts_im = dict(plot=dict(height=500, width=1000, colorbar=True), style=dict(cmap='Viridis'))\n",
    "ranges = dict(c=(0, 1.5), s=(0, 0.04))\n",
    "(regrid(hv.Image(C_init.rename('c'), kdims=['frame', 'unit_id'])).opts(**opts_im).relabel(\"Temporal Trace Initial\").redim.range(**ranges)\n",
    " + hv.Curve([]).opts(xaxis=None, yaxis=None, show_frame=False)\n",
    " + regrid(hv.Image(C_temporal.rename('c'), kdims=['frame', 'unit_id'])).opts(**opts_im).relabel(\"Temporal Trace First Update\").redim.range(**ranges)\n",
    " + regrid(hv.Image(S_temporal.rename('s'), kdims=['frame', 'unit_id'])).opts(**opts_im).relabel(\"Spikes First Update\").redim.range(**ranges)).cols(2)"
   ]
  },
  {
   "cell_type": "code",
   "execution_count": null,
   "metadata": {},
   "outputs": [],
   "source": [
    "hv.output(size=output_size)\n",
    "if interactive:\n",
    "    h, w = A_spatial.sizes['height'], A_spatial.sizes['width']\n",
    "    im_opts = dict(plot=dict(height=h, width=w), style=dict(cmap='Viridis'))\n",
    "    cr_opts = dict(plot=dict(height=h, width=2*w))\n",
    "    bad_units = list(set(A_spatial.coords['unit_id'].values) - set(A_temporal.coords['unit_id'].values))\n",
    "    bad_units.sort()\n",
    "    hv_res = (datashade(hv.Dataset(YrA.sel(unit_id=bad_units).rename('raw'))\n",
    "                        .to(hv.Curve, kdims=['frame'])).opts(**cr_opts).relabel(\"Temporal Trace\")\n",
    "              + hv.Div('')\n",
    "              + regrid(hv.Dataset(A_spatial.sel(unit_id=bad_units).rename('A'))\n",
    "                       .to(hv.Image, kdims=['width', 'height'])).opts(**im_opts).relabel(\"Spatial Footprint\")\n",
    "              + (regrid(hv.Image(A_temporal.sum('unit_id').compute().rename('A'), kdims=['width', 'height']))\n",
    "                 .opts(**im_opts)).relabel(\"Spatial Footprints of Accepted Units\")).cols(2)\n",
    "    display(hv_res)"
   ]
  },
  {
   "cell_type": "code",
   "execution_count": null,
   "metadata": {
    "scrolled": false
   },
   "outputs": [],
   "source": [
    "hv.output(size=output_size)\n",
    "if interactive:\n",
    "    display(visualize_temporal_update(YrA, C_temporal, S_temporal, g_temporal, sig_temporal, A_temporal))"
   ]
  },
  {
   "cell_type": "markdown",
   "metadata": {},
   "source": [
    "## merge units"
   ]
  },
  {
   "cell_type": "code",
   "execution_count": null,
   "metadata": {},
   "outputs": [],
   "source": [
    "%%time\n",
    "A_mrg, sig_mrg = unit_merge(A_temporal, sig_temporal, **param_first_merge)"
   ]
  },
  {
   "cell_type": "code",
   "execution_count": null,
   "metadata": {},
   "outputs": [],
   "source": [
    "hv.output(size=output_size)\n",
    "opts_im = dict(plot=dict(height=500, width=1000, colorbar=True), style=dict(cmap='Viridis'))\n",
    "ranges = dict(c=(0, 4), s=(0, 0.04))\n",
    "(regrid(hv.Image(sig_temporal.rename('c'), kdims=['frame', 'unit_id'])).relabel(\"Temporal Signals Before Merge\").opts(**opts_im).redim.range(**ranges) +\n",
    "regrid(hv.Image(sig_mrg.rename('c'), kdims=['frame', 'unit_id'])).relabel(\"Temporal Signals After Merge\").opts(**opts_im).redim.range(**ranges))"
   ]
  },
  {
   "cell_type": "markdown",
   "metadata": {},
   "source": [
    "## test parameters for spatial update"
   ]
  },
  {
   "cell_type": "code",
   "execution_count": null,
   "metadata": {},
   "outputs": [],
   "source": [
    "if interactive:\n",
    "    A_mrg, sig_mrg = (A_mrg.chunk({c: chunks[c] for c in ['height', 'width', 'unit_id']}),\n",
    "                      sig_mrg.chunk({c: chunks[c] for c in ['frame', 'unit_id']}))"
   ]
  },
  {
   "cell_type": "code",
   "execution_count": null,
   "metadata": {},
   "outputs": [],
   "source": [
    "if interactive:\n",
    "    units = np.random.choice(A_mrg.coords['unit_id'], 10, replace=False)\n",
    "    units.sort()"
   ]
  },
  {
   "cell_type": "code",
   "execution_count": null,
   "metadata": {},
   "outputs": [],
   "source": [
    "%%time\n",
    "if interactive:\n",
    "    sprs_ls = [0.1, 0.2, 0.3]\n",
    "    A_dict = dict()\n",
    "    C_dict = dict()\n",
    "    for cur_sprs in sprs_ls:\n",
    "        cur_A, cur_b, cur_C, cur_f = update_spatial(\n",
    "            Y, A_mrg.sel(unit_id=units),\n",
    "            b_init, sig_mrg.sel(unit_id=units), f_init, sn_spatial, dl_wnd=20, sparse_penal=cur_sprs)\n",
    "        if cur_A.sizes['unit_id']:\n",
    "            A_dict[cur_sprs] = cur_A\n",
    "            C_dict[cur_sprs] = cur_C\n",
    "    hv_res = visualize_spatial_update(A_dict, C_dict, kdims=['sparse penalty'])"
   ]
  },
  {
   "cell_type": "code",
   "execution_count": null,
   "metadata": {},
   "outputs": [],
   "source": [
    "hv.output(size=output_size)\n",
    "if interactive:\n",
    "    display(hv_res)"
   ]
  },
  {
   "cell_type": "markdown",
   "metadata": {},
   "source": [
    "## second spatial update"
   ]
  },
  {
   "cell_type": "code",
   "execution_count": null,
   "metadata": {},
   "outputs": [],
   "source": [
    "%%time\n",
    "A_spatial_it2, b_spatial_it2, C_spatial_it2, f_spatial_it2 = update_spatial(\n",
    "    Y, A_mrg, b_spatial, sig_mrg, f_spatial, sn_spatial, **param_second_spatial)"
   ]
  },
  {
   "cell_type": "code",
   "execution_count": null,
   "metadata": {
    "scrolled": false
   },
   "outputs": [],
   "source": [
    "hv.output(size=output_size)\n",
    "opts = dict(plot=dict(height=A_init.sizes['height'], width=A_init.sizes['width'], colorbar=True), style=dict(cmap='Viridis'))\n",
    "(regrid(hv.Image(A_spatial.sum('unit_id').compute().rename('A'), kdims=['width', 'height'])).opts(**opts).relabel(\"Spatial Footprints First Update\")\n",
    "+ regrid(hv.Image((A_spatial.fillna(0) > 0).sum('unit_id').compute().rename('A'), kdims=['width', 'height']), aggregator='max').opts(**opts).relabel(\"Binary Spatial Footprints First Update\")\n",
    "+ regrid(hv.Image(A_spatial_it2.sum('unit_id').compute().rename('A'), kdims=['width', 'height'])).opts(**opts).relabel(\"Spatial Footprints Second Update\")\n",
    "+ regrid(hv.Image((A_spatial_it2 > 0).sum('unit_id').compute().rename('A'), kdims=['width', 'height']), aggregator='max').opts(**opts).relabel(\"Binary Spatial Footprints Second Update\")).cols(2)"
   ]
  },
  {
   "cell_type": "code",
   "execution_count": null,
   "metadata": {},
   "outputs": [],
   "source": [
    "hv.output(size=output_size)\n",
    "opts_im = dict(plot=dict(height=b_init.sizes['height'], width=b_init.sizes['width'], colorbar=True), style=dict(cmap='Viridis'))\n",
    "opts_cr = dict(plot=dict(height=b_init.sizes['height'], width=b_init.sizes['height'] * 2))\n",
    "(regrid(hv.Image(b_spatial, kdims=['width', 'height'])).opts(**opts_im).relabel('Background Spatial First Update')\n",
    " + datashade(hv.Curve(f_spatial, kdims=['frame'])).opts(**opts_cr).relabel('Background Temporal First Update')\n",
    " + regrid(hv.Image(b_spatial_it2, kdims=['width', 'height'])).opts(**opts_im).relabel('Background Spatial Second Update')\n",
    " + datashade(hv.Curve(f_spatial_it2, kdims=['frame'])).opts(**opts_cr).relabel('Background Temporal Second Update')\n",
    ").cols(2)"
   ]
  },
  {
   "cell_type": "markdown",
   "metadata": {},
   "source": [
    "## test parameters for temporal update"
   ]
  },
  {
   "cell_type": "code",
   "execution_count": null,
   "metadata": {},
   "outputs": [],
   "source": [
    "if interactive:\n",
    "    units = np.random.choice(A_spatial_it2.coords['unit_id'], 10, replace=False)\n",
    "    units.sort()"
   ]
  },
  {
   "cell_type": "code",
   "execution_count": null,
   "metadata": {},
   "outputs": [],
   "source": [
    "%%time\n",
    "if interactive:\n",
    "    p_ls = [2]\n",
    "    sprs_ls = [1, 3, 5]\n",
    "    add_ls = [20]\n",
    "    noise_ls = [0.06]\n",
    "    YA_dict, C_dict, S_dict, g_dict, sig_dict, A_dict = [dict() for _ in range(6)]\n",
    "    for cur_p, cur_sprs, cur_add, cur_noise in itt.product(p_ls, sprs_ls, add_ls, noise_ls):\n",
    "        ks = (cur_p, cur_sprs, cur_add, cur_noise)\n",
    "        print(\"p:{}, sparse penalty:{}, additional lag:{}, noise frequency:{}\"\n",
    "              .format(cur_p, cur_sprs, cur_add, cur_noise))\n",
    "        YrA, cur_C, cur_S, cur_B, cur_C0, cur_sig, cur_g, cur_scal = update_temporal(\n",
    "            Y, A_spatial_it2.sel(unit_id=units), b_spatial, C_spatial_it2.sel(unit_id=units),\n",
    "            f_spatial, sn_spatial, sparse_penal=cur_sprs, p=cur_p, use_spatial=False, use_smooth=True,\n",
    "            add_lag = cur_add, noise_freq=cur_noise, cvx_sched=\"processes\", chk=chunks)\n",
    "        cur_A = A_spatial.sel(unit_id = cur_C.coords['unit_id'])\n",
    "        YA_dict[ks], C_dict[ks], S_dict[ks], g_dict[ks], sig_dict[ks], A_dict[ks] = (\n",
    "            YrA, cur_C, cur_S, cur_g, cur_sig, cur_A)\n",
    "    hv_res = visualize_temporal_update(\n",
    "        YA_dict, C_dict, S_dict, g_dict, sig_dict, A_dict,\n",
    "        kdims=['p', 'sparse penalty', 'additional lag', 'noise frequency'])"
   ]
  },
  {
   "cell_type": "code",
   "execution_count": null,
   "metadata": {},
   "outputs": [],
   "source": [
    "hv.output(size=output_size)\n",
    "if interactive:\n",
    "    display(hv_res)"
   ]
  },
  {
   "cell_type": "markdown",
   "metadata": {},
   "source": [
    "## second temporal update"
   ]
  },
  {
   "cell_type": "code",
   "execution_count": null,
   "metadata": {},
   "outputs": [],
   "source": [
    "%%time\n",
    "YrA, C_temporal_it2, S_temporal_it2, B_temporal_it2, C0_temporal_it2, sig_temporal_it2, g_temporal_it2, scale_temporal_it2 = update_temporal(\n",
    "    Y, A_spatial_it2, b_spatial_it2, C_spatial_it2, f_spatial_it2, sn_spatial, **param_second_temporal)\n",
    "A_temporal_it2 = A_spatial_it2.sel(unit_id=C_temporal_it2.coords['unit_id'])"
   ]
  },
  {
   "cell_type": "code",
   "execution_count": null,
   "metadata": {},
   "outputs": [],
   "source": [
    "hv.output(size=output_size)\n",
    "opts_im = dict(plot=dict(height=500, width=1000, colorbar=True), style=dict(cmap='Viridis'))\n",
    "ranges = dict(c=(0, 1.5), s=(0, 0.04))\n",
    "(regrid(hv.Image(C_temporal.rename('c'), kdims=['frame', 'unit_id'])).opts(**opts_im).relabel(\"Temporal Trace First Update\").redim.range(**ranges)\n",
    " + regrid(hv.Image(S_temporal.rename('s'), kdims=['frame', 'unit_id'])).opts(**opts_im).relabel(\"Spikes First Update\").redim.range(**ranges)\n",
    " + regrid(hv.Image(C_temporal_it2.rename('c').rename(unit_id='unit_id_it2'), kdims=['frame', 'unit_id_it2'])).opts(**opts_im).relabel(\"Temporal Trace Second Update\").redim.range(**ranges)\n",
    " + regrid(hv.Image(S_temporal_it2.rename('s').rename(unit_id='unit_id_it2'), kdims=['frame', 'unit_id_it2'])).opts(**opts_im).relabel(\"Spikes Second Update\").redim.range(**ranges)).cols(2)"
   ]
  },
  {
   "cell_type": "code",
   "execution_count": null,
   "metadata": {},
   "outputs": [],
   "source": [
    "hv.output(size=output_size)\n",
    "if interactive:\n",
    "    h, w = A_spatial_it2.sizes['height'], A_spatial_it2.sizes['width']\n",
    "    im_opts = dict(plot=dict(height=h, width=w), style=dict(cmap='Viridis'))\n",
    "    cr_opts = dict(plot=dict(height=h, width=2*w))\n",
    "    bad_units = list(set(A_spatial_it2.coords['unit_id'].values) - set(A_temporal_it2.coords['unit_id'].values))\n",
    "    bad_units.sort()\n",
    "    hv_res = (datashade(hv.Dataset(YrA.sel(unit_id=bad_units).rename('raw'))\n",
    "                        .to(hv.Curve, kdims=['frame'])).opts(**cr_opts).relabel(\"Temporal Trace\")\n",
    "              + hv.Div('')\n",
    "              + regrid(hv.Dataset(A_spatial_it2.sel(unit_id=bad_units).rename('A'))\n",
    "                       .to(hv.Image, kdims=['width', 'height'])).opts(**im_opts).relabel(\"Spatial Footprint\")\n",
    "              + (regrid(hv.Image(A_temporal_it2.sum('unit_id').compute().rename('A'), kdims=['width', 'height']))\n",
    "                 .opts(**im_opts)).relabel(\"Spatial Footprints of Accepted Units\")).cols(2)\n",
    "    display(hv_res)"
   ]
  },
  {
   "cell_type": "code",
   "execution_count": null,
   "metadata": {
    "scrolled": false
   },
   "outputs": [],
   "source": [
    "hv.output(size=output_size)\n",
    "if interactive:\n",
    "    visualize_temporal_update(YrA, C_temporal_it2, S_temporal_it2, g_temporal_it2, sig_temporal_it2, A_temporal_it2)"
   ]
  },
  {
   "cell_type": "markdown",
   "metadata": {},
   "source": [
    "## merge units"
   ]
  },
  {
   "cell_type": "code",
   "execution_count": null,
   "metadata": {},
   "outputs": [],
   "source": [
    "%%time\n",
    "A_mrg_it2, C_mrg_it2, add_list = unit_merge(A_temporal_it2, C_temporal_it2, [S_temporal_it2, C0_temporal_it2, g_temporal_it2, B_temporal_it2], **param_second_merge)"
   ]
  },
  {
   "cell_type": "code",
   "execution_count": null,
   "metadata": {},
   "outputs": [],
   "source": [
    "hv.output(size=output_size)\n",
    "opts_im = dict(plot=dict(height=500, width=1000, colorbar=True), style=dict(cmap='Viridis'))\n",
    "ranges = dict(c=(0, 2), s=(0, 0.04))\n",
    "(regrid(hv.Image(C_temporal_it2.rename('c'), kdims=['frame', 'unit_id'])).relabel(\"Temporal Signals Before Merge\").opts(**opts_im).redim.range(**ranges) +\n",
    "regrid(hv.Image(C_mrg_it2.rename('c'), kdims=['frame', 'unit_id'])).relabel(\"Temporal Signals After Merge\").opts(**opts_im).redim.range(**ranges))"
   ]
  },
  {
   "cell_type": "code",
   "execution_count": null,
   "metadata": {},
   "outputs": [],
   "source": [
    "S_mrg_it2, C0_mrg_it2, g_mrg_it2, B_mrg_it2 = add_list[:]"
   ]
  },
  {
   "cell_type": "markdown",
   "metadata": {},
   "source": [
    "## save results"
   ]
  },
  {
   "cell_type": "code",
   "execution_count": null,
   "metadata": {},
   "outputs": [],
   "source": [
    "%%time\n",
    "minian.close()\n",
    "save_minian(A_mrg_it2.rename('A').compute(), **param_save_minian)\n",
    "save_minian(C_mrg_it2.rename('C').compute(), **param_save_minian)\n",
    "save_minian(S_mrg_it2.rename('S').compute(), **param_save_minian)\n",
    "save_minian(g_mrg_it2.rename('g').compute(), **param_save_minian)\n",
    "save_minian(C0_mrg_it2.rename('C0').compute(), **param_save_minian)\n",
    "save_minian(B_mrg_it2.rename('B').compute(), **param_save_minian)\n",
    "save_minian(b_spatial_it2.rename('b').compute(), **param_save_minian)\n",
    "save_minian(f_spatial_it2.rename('f').compute(), **param_save_minian)"
   ]
  },
  {
   "cell_type": "markdown",
   "metadata": {},
   "source": [
    "## visualization"
   ]
  },
  {
   "cell_type": "code",
   "execution_count": null,
   "metadata": {},
   "outputs": [],
   "source": [
    "minian = open_minian(dpath,\n",
    "                     fname=param_save_minian['fname'],\n",
    "                     backend=param_save_minian['backend'])"
   ]
  },
  {
   "cell_type": "code",
   "execution_count": null,
   "metadata": {},
   "outputs": [],
   "source": [
    "%%time\n",
    "generate_videos(\n",
    "    minian, os.path.join(dpath, param_save_minian['fname'] + \".mp4\"),\n",
    "    chk=dict(height=100, width=100, frame=1000))"
   ]
  },
  {
   "cell_type": "code",
   "execution_count": null,
   "metadata": {},
   "outputs": [],
   "source": [
    "%%time\n",
    "if interactive:\n",
    "    cnmfviewer = CNMFViewer(minian)"
   ]
  },
  {
   "cell_type": "code",
   "execution_count": null,
   "metadata": {
    "scrolled": false
   },
   "outputs": [],
   "source": [
    "hv.output(size=output_size)\n",
    "if interactive:\n",
    "    display(cnmfviewer.show())"
   ]
  },
  {
   "cell_type": "code",
   "execution_count": null,
   "metadata": {},
   "outputs": [],
   "source": [
    "if interactive:\n",
    "    save_minian(cnmfviewer.unit_labels, **param_save_minian)"
   ]
  }
 ],
 "metadata": {
  "kernelspec": {
   "display_name": "Python3 (minian)",
   "language": "python",
   "name": "minian"
  },
  "language_info": {
   "codemirror_mode": {
    "name": "ipython",
    "version": 3
   },
   "file_extension": ".py",
   "mimetype": "text/x-python",
   "name": "python",
   "nbconvert_exporter": "python",
   "pygments_lexer": "ipython3",
   "version": "3.6.7"
  },
  "name": "pipeline.ipynb"
 },
 "nbformat": 4,
 "nbformat_minor": 2
}
